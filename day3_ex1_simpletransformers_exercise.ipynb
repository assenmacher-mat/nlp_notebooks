{
 "cells": [
  {
   "cell_type": "markdown",
   "metadata": {
    "colab_type": "text",
    "id": "EKOTlwcmxmej"
   },
   "source": [
    "# Using BERT on the Germeval Task 2017\n",
    "\n",
    "## Subtask A) Relevance Classification\n",
    "\n",
    "_This Code provides the minimal functionality for setting up the training of a binary classification task using the __simpletransformers__ module._"
   ]
  },
  {
   "cell_type": "markdown",
   "metadata": {
    "colab_type": "text",
    "id": "RX_ZDhicpHkV"
   },
   "source": [
    "# 1. Setup"
   ]
  },
  {
   "cell_type": "markdown",
   "metadata": {
    "colab_type": "text",
    "id": "GI0iOY8zvZzL"
   },
   "source": [
    "Add a GPU by going to the menu and:\n",
    "\n",
    "`Edit 🡒 Notebook Settings 🡒 Hardware accelerator 🡒 (GPU)`"
   ]
  },
  {
   "cell_type": "code",
   "execution_count": null,
   "metadata": {
    "colab": {},
    "colab_type": "code",
    "id": "DEfSbAA4QHas"
   },
   "outputs": [],
   "source": [
    "import tensorflow as tf\n",
    "\n",
    "# GPU device name.\n",
    "device_name = tf.test.gpu_device_name()\n",
    "\n",
    "# The device name should look like the following:\n",
    "if device_name == '/device:GPU:0':\n",
    "    print('Found it at: {}'.format(device_name))\n",
    "else:\n",
    "    raise SystemError('GPU device not found')"
   ]
  },
  {
   "cell_type": "markdown",
   "metadata": {
    "colab_type": "text",
    "id": "cqG7FzRVFEIv"
   },
   "source": [
    "In order for torch to use the GPU, we need to identify and specify the GPU as the device."
   ]
  },
  {
   "cell_type": "code",
   "execution_count": null,
   "metadata": {
    "colab": {},
    "colab_type": "code",
    "id": "oYsV4H8fCpZ-"
   },
   "outputs": [],
   "source": [
    "import torch\n",
    "\n",
    "if torch.cuda.is_available():    \n",
    "    device = torch.device(\"cuda\")\n",
    "    print('GPU:', torch.cuda.get_device_name(0))\n",
    "else:\n",
    "    print('No GPU available, using the CPU instead.')\n",
    "    device = torch.device(\"cpu\")"
   ]
  },
  {
   "cell_type": "code",
   "execution_count": null,
   "metadata": {
    "colab": {},
    "colab_type": "code",
    "id": "XV9WduI5yXZb"
   },
   "outputs": [],
   "source": [
    "!nvidia-smi"
   ]
  },
  {
   "cell_type": "markdown",
   "metadata": {
    "colab_type": "text",
    "id": "2ElsnSNUridI"
   },
   "source": [
    "## 1.2. Install the [simpletransformers](https://github.com/ThilinaRajapakse/simpletransformers) module alongside with [apex](https://github.com/NVIDIA/apex)  \n"
   ]
  },
  {
   "cell_type": "code",
   "execution_count": null,
   "metadata": {
    "colab": {},
    "colab_type": "code",
    "id": "0NmMdkZO8R6q"
   },
   "outputs": [],
   "source": [
    "!pip install simpletransformers"
   ]
  },
  {
   "cell_type": "code",
   "execution_count": null,
   "metadata": {
    "colab": {},
    "colab_type": "code",
    "id": "vYTafe5-o3Yr"
   },
   "outputs": [],
   "source": [
    "%%writefile setup.sh\n",
    "\n",
    "git clone https://github.com/NVIDIA/apex\n",
    "pip install -v --no-cache-dir --global-option=\"--cpp_ext\" --global-option=\"--cuda_ext\" ./apex"
   ]
  },
  {
   "cell_type": "code",
   "execution_count": null,
   "metadata": {
    "colab": {},
    "colab_type": "code",
    "id": "cLOxfPAko90D"
   },
   "outputs": [],
   "source": [
    "!sh setup.sh"
   ]
  },
  {
   "cell_type": "markdown",
   "metadata": {
    "colab_type": "text",
    "id": "guw6ZNtaswKc"
   },
   "source": [
    "# 2. Load the data"
   ]
  },
  {
   "cell_type": "markdown",
   "metadata": {
    "colab_type": "text",
    "id": "_9ZKxKc04Btk"
   },
   "source": [
    "Go to the [Germeval 2017 homepage](https://sites.google.com/view/germeval2017-absa/data\n",
    ") and download the _train.tsv_ and the _dev.tsv_ data sets.\n",
    "\n",
    "We will use _train.tsv_ for training and validation set, while _dev.tsv_ will serve as a held out test set in this case."
   ]
  },
  {
   "cell_type": "markdown",
   "metadata": {
    "colab_type": "text",
    "id": "4JrUHXms16cn"
   },
   "source": [
    "## 2.1. Upload to colab"
   ]
  },
  {
   "cell_type": "markdown",
   "metadata": {
    "colab_type": "text",
    "id": "n2tSgZygOCsH"
   },
   "source": [
    "Use the following command to open a window where you can upload the files to colab."
   ]
  },
  {
   "cell_type": "code",
   "execution_count": null,
   "metadata": {
    "colab": {},
    "colab_type": "code",
    "id": "8xHptmJUN6DF"
   },
   "outputs": [],
   "source": [
    "from google.colab import files\n",
    "uploaded = files.upload()"
   ]
  },
  {
   "cell_type": "markdown",
   "metadata": {
    "colab_type": "text",
    "id": "oQUy9Tat2EF_"
   },
   "source": [
    "## 2.2. Preparation"
   ]
  },
  {
   "cell_type": "markdown",
   "metadata": {
    "colab_type": "text",
    "id": "MYWzeGSY2xh3"
   },
   "source": [
    "We'll use pandas to prepare the training set and look at a few of its properties."
   ]
  },
  {
   "cell_type": "code",
   "execution_count": null,
   "metadata": {
    "colab": {},
    "colab_type": "code",
    "id": "_UkeC7SG2krJ"
   },
   "outputs": [],
   "source": [
    "import pandas as pd\n",
    "import numpy as np\n",
    "\n",
    "# Load the dataset into a pandas dataframe.\n",
    "df = pd.read_csv(\"./train_v1.4.tsv\", \n",
    "                 delimiter = \"\\t\", \n",
    "                 header = None, \n",
    "                 names = [\"id\", \"text\", \"relevance\", \"sentiment\", \"aspect:polarity\"])\n",
    "df[\"labels\"] = np.where(df[\"relevance\"] == True, 1, 0)\n",
    "\n",
    "# Report the number of sentences.\n",
    "print('Number of training sentences: {:,}\\n'.format(df.shape[0]))\n",
    "\n",
    "# The data set has some missing values which have to be removed\n",
    "df = df.dropna(axis = 0, subset = [\"text\", \"labels\"])\n",
    "print('Number of training sentences (after removing NAs): {:,}\\n'.format(df.shape[0]))\n",
    "\n",
    "# Display random rows from the data.\n",
    "df.sample(3)"
   ]
  },
  {
   "cell_type": "markdown",
   "metadata": {
    "colab_type": "text",
    "id": "iI5yrhWjmn_6"
   },
   "source": [
    "Remove all other columns"
   ]
  },
  {
   "cell_type": "code",
   "execution_count": null,
   "metadata": {
    "colab": {},
    "colab_type": "code",
    "id": "QwETwoX6mnb4"
   },
   "outputs": [],
   "source": [
    "df = df[[\"text\",\"labels\"]]"
   ]
  },
  {
   "cell_type": "code",
   "execution_count": null,
   "metadata": {
    "colab": {},
    "colab_type": "code",
    "id": "4mMXduIauqPh"
   },
   "outputs": [],
   "source": [
    "from sklearn.model_selection import train_test_split\n",
    "\n",
    "train, validation = train_test_split(df, test_size = 0.1, random_state = 2020)"
   ]
  },
  {
   "cell_type": "markdown",
   "metadata": {
    "colab_type": "text",
    "id": "4SMZ5T5Imhlx"
   },
   "source": [
    "Set up the logger"
   ]
  },
  {
   "cell_type": "code",
   "execution_count": null,
   "metadata": {
    "colab": {},
    "colab_type": "code",
    "id": "GuE5BqICAne2"
   },
   "outputs": [],
   "source": [
    "import logging\n",
    "\n",
    "logging.basicConfig(level=logging.INFO)\n",
    "transformers_logger = logging.getLogger(\"transformers\")\n",
    "transformers_logger.setLevel(logging.WARNING)"
   ]
  },
  {
   "cell_type": "markdown",
   "metadata": {
    "colab_type": "text",
    "id": "ex5O1eV-Pfct"
   },
   "source": [
    "Set up the model  \n",
    "_For all arguments & their defaults, see [documentation](https://github.com/ThilinaRajapakse/simpletransformers#default-settings)_"
   ]
  },
  {
   "cell_type": "code",
   "execution_count": null,
   "metadata": {
    "colab": {},
    "colab_type": "code",
    "id": "SbvZdnzgk97e"
   },
   "outputs": [],
   "source": [
    "from simpletransformers.classification import ClassificationModel\n",
    "\n",
    "# Create a ClassificationModel\n",
    "model = ClassificationModel(\"bert\", \"bert-base-german-cased\", num_labels = 2, \n",
    "                            args={\"overwrite_output_dir\": True,\n",
    "                                  \"max_seq_length\": 128,\n",
    "                                  \"train_batch_size\": 128,\n",
    "                                  \"eval_batch_size\": 128,\n",
    "                                  \"evaluate_during_training\": True,\n",
    "                                  \"evaluate_during_training_steps\": 100,\n",
    "                                  \"evaluate_during_training_verbose\": False,\n",
    "                                  \"num_train_epochs\": 4,\n",
    "                                  \"gradient_accumulation_steps\": 1,\n",
    "                                  \"learning_rate\": 4e-5,\n",
    "                                  \"adam_epsilon\": 1e-8,\n",
    "                                  \"warmup_ratio\": 0.06,\n",
    "                                  \"manual_seed\": 2020,\n",
    "                                  \"save_eval_checkpoints\": False}, \n",
    "                            use_cuda = True)"
   ]
  },
  {
   "cell_type": "markdown",
   "metadata": {
    "colab_type": "text",
    "id": "nTDkIUOGlTnZ"
   },
   "source": [
    "Train the model"
   ]
  },
  {
   "cell_type": "code",
   "execution_count": null,
   "metadata": {
    "colab": {},
    "colab_type": "code",
    "id": "Z474sSC6oe7A"
   },
   "outputs": [],
   "source": [
    "model.train_model(train_df = train, eval_df = validation)"
   ]
  },
  {
   "cell_type": "markdown",
   "metadata": {
    "colab_type": "text",
    "id": "hj44w9rTlkxe"
   },
   "source": [
    "Evaluate the results"
   ]
  },
  {
   "cell_type": "code",
   "execution_count": null,
   "metadata": {
    "colab": {},
    "colab_type": "code",
    "id": "3dbhXwu1wFvk"
   },
   "outputs": [],
   "source": [
    "# Load the dataset into a pandas dataframe.\n",
    "test = pd.read_csv(\"./dev_v1.4.tsv\", \n",
    "                   delimiter = \"\\t\", \n",
    "                   header = None, \n",
    "                   names = [\"id\", \"text\", \"relevance\", \"sentiment\", \"aspect:polarity\"])\n",
    "test[\"labels\"] = np.where(test[\"relevance\"] == True, 1, 0)\n",
    "\n",
    "# Report the number of sentences.\n",
    "print('Number of tratestining sentences: {:,}\\n'.format(test.shape[0]))\n",
    "\n",
    "# The data set has some missing values which have to be removed\n",
    "test = test.dropna(axis = 0, subset = [\"text\", \"labels\"])\n",
    "\n",
    "test = test[[\"text\",\"labels\"]]"
   ]
  },
  {
   "cell_type": "code",
   "execution_count": null,
   "metadata": {
    "colab": {},
    "colab_type": "code",
    "id": "dLIbudgfh6F0"
   },
   "outputs": [],
   "source": [
    "result, model_outputs, wrong_predictions = model.eval_model(eval_df = test)"
   ]
  },
  {
   "cell_type": "code",
   "execution_count": null,
   "metadata": {
    "colab": {},
    "colab_type": "code",
    "id": "2bBdb3pt8LuQ"
   },
   "outputs": [],
   "source": [
    "result"
   ]
  },
  {
   "cell_type": "markdown",
   "metadata": {
    "colab_type": "text",
    "id": "6lR0yrEg-NWG"
   },
   "source": [
    "## Task A)  \n",
    "Play around with different parameters like maximum sequence length, batch size, etc."
   ]
  },
  {
   "cell_type": "markdown",
   "metadata": {
    "colab_type": "text",
    "id": "kxC006SB-tjm"
   },
   "source": [
    "## Task B)  \n",
    "Try Multi-class Classification by using the _sentiment_ variable from the data set"
   ]
  }
 ],
 "metadata": {
  "accelerator": "GPU",
  "colab": {
   "collapsed_sections": [],
   "name": "day3_ex1_simpletransformers.ipynb",
   "provenance": []
  },
  "kernelspec": {
   "display_name": "Python 3",
   "language": "python",
   "name": "python3"
  },
  "language_info": {
   "codemirror_mode": {
    "name": "ipython",
    "version": 3
   },
   "file_extension": ".py",
   "mimetype": "text/x-python",
   "name": "python",
   "nbconvert_exporter": "python",
   "pygments_lexer": "ipython3",
   "version": "3.6.8"
  }
 },
 "nbformat": 4,
 "nbformat_minor": 2
}
