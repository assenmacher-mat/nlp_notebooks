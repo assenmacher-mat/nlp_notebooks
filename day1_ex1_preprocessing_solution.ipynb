{
 "cells": [
  {
   "cell_type": "markdown",
   "metadata": {},
   "source": [
    "# Day 1 - Exercise 1 - Preprocessing of textual data"
   ]
  },
  {
   "cell_type": "markdown",
   "metadata": {},
   "source": [
    "## Necessary imports\n",
    "\n",
    "In order to handle the data properly we have to import the data and the modules we need:"
   ]
  },
  {
   "cell_type": "code",
   "execution_count": 1,
   "metadata": {},
   "outputs": [],
   "source": [
    "# modules\n",
    "import pandas as pd\n",
    "import numpy as np\n",
    "import re\n",
    "import nltk\n",
    "import urllib.request"
   ]
  },
  {
   "cell_type": "markdown",
   "metadata": {},
   "source": [
    "### Import the data set\n",
    "We will work on a data set of speeches held by Donald Trump.  \n",
    "It is to be found on this GitHub repository: https://github.com/ryanmcdermott/trump-speeches"
   ]
  },
  {
   "cell_type": "code",
   "execution_count": 2,
   "metadata": {},
   "outputs": [],
   "source": [
    "data = urllib.request.urlopen(\"https://raw.githubusercontent.com/ryanmcdermott/trump-speeches/master/speeches.txt\")\n",
    "speeches = [line.decode('utf-8') for line in data]\n",
    "speeches = \" \".join(speeches)"
   ]
  },
  {
   "cell_type": "markdown",
   "metadata": {},
   "source": [
    "### Inspect the data\n",
    "What is the format? How do we handle it?"
   ]
  },
  {
   "cell_type": "code",
   "execution_count": 3,
   "metadata": {},
   "outputs": [
    {
     "name": "stdout",
     "output_type": "stream",
     "text": [
      "﻿SPEECH 1\n",
      " \n",
      " \n",
      " ...Thank you so much.  That's so nice.  Isn't he a great guy.  He doesn't get a fair press; he doesn't get it.  It's just not fair.  And I have to tell you I'm here, and very strongly here, because I have great respect for Steve King and have great respect likewise for Citizens United, David and everybody, and tremendous resect for the Tea Party.  Also, also the people of Iowa.  They have something in common.  Hard-working people.  They want to work, they want to make the country great.  I love the people of Iowa.  So that's the way it is.  Very simple.\n",
      " With that said, our country is really headed in the wrong direction with a president who is doing an absolutely terrible job.  The world is collapsing around us, and many of the problems we've caused.  Our president is either grossly incompetent, a word that more and more people are using, and I think I was the first to use it, or he has a completely different agenda than you want to know about, which could be possib\n"
     ]
    }
   ],
   "source": [
    "print(speeches[:1000])"
   ]
  },
  {
   "cell_type": "markdown",
   "metadata": {},
   "source": [
    "### Can we find out how many speeches there are in our data set?  \n",
    "(Hint: Use regex patterns in a clever way)"
   ]
  },
  {
   "cell_type": "code",
   "execution_count": 4,
   "metadata": {},
   "outputs": [
    {
     "data": {
      "text/plain": [
       "['SPEECH 1',\n",
       " 'SPEECH 2',\n",
       " 'SPEECH 3',\n",
       " 'SPEECH 4',\n",
       " 'SPEECH 5',\n",
       " 'SPEECH 6',\n",
       " 'SPEECH 7',\n",
       " 'SPEECH 8',\n",
       " 'SPEECH 9',\n",
       " 'SPEECH 10']"
      ]
     },
     "execution_count": 4,
     "metadata": {},
     "output_type": "execute_result"
    }
   ],
   "source": [
    "re.findall(r\"SPEECH [0-9]+\", speeches)"
   ]
  },
  {
   "cell_type": "markdown",
   "metadata": {},
   "source": [
    "### Split up the data into the different speeches"
   ]
  },
  {
   "cell_type": "code",
   "execution_count": 5,
   "metadata": {},
   "outputs": [],
   "source": [
    "list_speeches = re.split(r\"SPEECH [0-9]+\", speeches)"
   ]
  },
  {
   "cell_type": "markdown",
   "metadata": {},
   "source": [
    "### Display the beginning of each speech  \n",
    "(Hint: Use a listwise comprehension)"
   ]
  },
  {
   "cell_type": "code",
   "execution_count": 6,
   "metadata": {},
   "outputs": [
    {
     "data": {
      "text/plain": [
       "['\\ufeff',\n",
       " \"   ...Thank you so much.  That's so nice.  Isn't he a great guy.  He doesn't get a fair press;\",\n",
       " '   Thank you for the opportunity to speak to you, and thank you to the Center for National Int',\n",
       " '   A hand with little fingers coming out of a stem. Like, little. Look at my hands. They’re fi',\n",
       " '     Oh boy. We love Nevada. We love Nevada. Thank you. Thank you. Oh this is a great place. T',\n",
       " '   Wow. Whoa. That is some group of people. Thousands.   So nice, thank you very much. T',\n",
       " '   Thank you. It’s true, and these are the best and the finest. When Mexico sends its people, ',\n",
       " '     Chris, thank you very much. I appreciate it. This has been an amazing evening. Alre',\n",
       " '   This is so — so incredible. —    We — we have had, no matter where we go — you know, ',\n",
       " '   (AUDIENCE MEMBERS SHOUTING)    — let me just tell you — let me just tell you a little s',\n",
       " '   Wow. Thank you. Thank you so much. Thank you. We start by paying our great respects to Pe']"
      ]
     },
     "execution_count": 6,
     "metadata": {},
     "output_type": "execute_result"
    }
   ],
   "source": [
    "[re.sub(r\"(\\r\\n)+\", \"\", s[:100]) for s in list_speeches]"
   ]
  },
  {
   "cell_type": "markdown",
   "metadata": {},
   "source": [
    "### Extract just the first speech from the list of speeches"
   ]
  },
  {
   "cell_type": "code",
   "execution_count": 7,
   "metadata": {},
   "outputs": [
    {
     "data": {
      "text/plain": [
       "\"\\r\\n \\r\\n \\r\\n ...Thank you so much.  That's so nice.  Isn't he a great guy.  He doesn't get a fair press; he doesn't get it.  It's just not fair.  And I have to tell you I'm here, and very strongly here, because I have great respect for Steve King and have great respect likewise for Citizens United, Davi\""
      ]
     },
     "execution_count": 7,
     "metadata": {},
     "output_type": "execute_result"
    }
   ],
   "source": [
    "speech = list_speeches[1]\n",
    "speech[:300]"
   ]
  },
  {
   "cell_type": "markdown",
   "metadata": {},
   "source": [
    "### Transform the whole speech to lowercase"
   ]
  },
  {
   "cell_type": "code",
   "execution_count": 8,
   "metadata": {},
   "outputs": [
    {
     "name": "stdout",
     "output_type": "stream",
     "text": [
      "\n",
      " \n",
      " \n",
      " ...thank you so much.  that's so nice.  isn't he a great guy.  he doesn't get a fair press; he doesn't get it.  it's just not fair.  and i have to tell you i'm here, and very strongly here, because i have great respect for steve king and have great respect likewise for citizens united, davi\n"
     ]
    }
   ],
   "source": [
    "speech = speech.lower()\n",
    "print(speech[:300])"
   ]
  },
  {
   "cell_type": "markdown",
   "metadata": {},
   "source": [
    "### Use a regex pattern to find all contractions in the speech\n",
    "\n",
    "(Hint: You can use `sorted()` to get the contractions in the same order as below)"
   ]
  },
  {
   "cell_type": "code",
   "execution_count": 9,
   "metadata": {},
   "outputs": [
    {
     "name": "stdout",
     "output_type": "stream",
     "text": [
      "[\"aren't\", \"can't\", \"country's\", \"didn't\", \"doesn't\", \"don't\", \"everyone's\", \"he's\", \"i'll\", \"i'm\", \"i've\", \"isn't\", \"it's\", \"that's\", \"they'd\", \"they're\", \"they've\", \"we'll\", \"we're\", \"we've\", \"weren't\", \"what's\", \"who's\", \"won't\", \"wouldn't\", \"you'd\", \"you'll\", \"you're\", \"you've\"]\n"
     ]
    }
   ],
   "source": [
    "contractions = sorted(list(set(re.findall(r\"\\w+'\\w+\", speech))))\n",
    "print(contractions)"
   ]
  },
  {
   "cell_type": "markdown",
   "metadata": {},
   "source": [
    "### Here is a list of the expanded contractions for replacing the them in the next step"
   ]
  },
  {
   "cell_type": "code",
   "execution_count": 10,
   "metadata": {},
   "outputs": [],
   "source": [
    "expanded = ['are not', 'can not', 'countrys', 'did not', 'does not', 'do not', 'everyone is', 'he is', 'i will', 'i am', 'i have', 'is not', 'it is', 'that is', \n",
    "            'they would', 'they are', 'they have', 'we will', 'we are', 'we have', 'were not', 'what is', 'who is', 'will not', 'would not', 'you would', \n",
    "            'you will', 'you are', 'you have']"
   ]
  },
  {
   "cell_type": "markdown",
   "metadata": {},
   "source": [
    "### Use a for loop to replace each contraction by its expanded version"
   ]
  },
  {
   "cell_type": "code",
   "execution_count": 11,
   "metadata": {},
   "outputs": [],
   "source": [
    "for i in range(len(contractions)):\n",
    "    speech = re.sub(contractions[i], expanded[i], speech)"
   ]
  },
  {
   "cell_type": "code",
   "execution_count": 12,
   "metadata": {},
   "outputs": [
    {
     "data": {
      "text/plain": [
       "'\\r\\n \\r\\n \\r\\n ...thank you so much.  that is so nice.  is not he a great guy.  he does not get a fair pre'"
      ]
     },
     "execution_count": 12,
     "metadata": {},
     "output_type": "execute_result"
    }
   ],
   "source": [
    "speech[:100]"
   ]
  },
  {
   "cell_type": "markdown",
   "metadata": {},
   "source": [
    "### Tokenize that speech and transform every token to lowercase"
   ]
  },
  {
   "cell_type": "code",
   "execution_count": 13,
   "metadata": {},
   "outputs": [
    {
     "name": "stdout",
     "output_type": "stream",
     "text": [
      "['...', 'thank', 'you', 'so', 'much', '.', 'that', 'is', 'so', 'nice', '.', 'is', 'not', 'he', 'a', 'great', 'guy', '.', 'he', 'does', 'not', 'get', 'a', 'fair', 'press', ';', 'he', 'does', 'not', 'get', 'it', '.', 'it', 'is', 'just', 'not', 'fair', '.', 'and', 'i', 'have', 'to', 'tell', 'you', 'i', 'am', 'here', ',', 'and', 'very']\n"
     ]
    }
   ],
   "source": [
    "speech = nltk.word_tokenize(speech)\n",
    "print(speech[:50])"
   ]
  },
  {
   "cell_type": "markdown",
   "metadata": {},
   "source": [
    "### Assume we have the following stopword list"
   ]
  },
  {
   "cell_type": "code",
   "execution_count": 14,
   "metadata": {},
   "outputs": [],
   "source": [
    "from nltk.corpus import stopwords\n",
    "stopwords = stopwords.words(\"english\")"
   ]
  },
  {
   "cell_type": "markdown",
   "metadata": {},
   "source": [
    "### Remove these stopwords from the speech"
   ]
  },
  {
   "cell_type": "code",
   "execution_count": 15,
   "metadata": {},
   "outputs": [],
   "source": [
    "speech = [word for word in speech if word not in stopwords]"
   ]
  },
  {
   "cell_type": "markdown",
   "metadata": {},
   "source": [
    "### Remove the unwanted tokens from the speech"
   ]
  },
  {
   "cell_type": "code",
   "execution_count": 16,
   "metadata": {},
   "outputs": [],
   "source": [
    "speech = re.sub(r\"[.,;:!?\\$\\-'`´]\", \"\", \" \".join(speech))"
   ]
  },
  {
   "cell_type": "markdown",
   "metadata": {},
   "source": [
    "### Remove numbers from the speech"
   ]
  },
  {
   "cell_type": "code",
   "execution_count": 17,
   "metadata": {},
   "outputs": [],
   "source": [
    "speech = re.sub(r\"[0-9]+\", \"\", speech)"
   ]
  },
  {
   "cell_type": "markdown",
   "metadata": {},
   "source": [
    "### Print the speech one more time"
   ]
  },
  {
   "cell_type": "code",
   "execution_count": 18,
   "metadata": {},
   "outputs": [
    {
     "name": "stdout",
     "output_type": "stream",
     "text": [
      " thank much  nice  great guy  get fair press  get  fair  tell  strongly  great respect steve king great respect likewise citizens united  david everybody  tremendous resect tea party  also  also people iowa  something common  hardworking people  want work  want make country great  love people iowa  way  simple  said  country really headed wrong direction president absolutely terrible job  world collapsing around us  many problems caused  president either grossly incompetent  word people using  t\n"
     ]
    }
   ],
   "source": [
    "print(speech[:500])"
   ]
  },
  {
   "cell_type": "markdown",
   "metadata": {},
   "source": [
    "## Congratulations, you have successfully pre-processed one of Trump's speeches"
   ]
  },
  {
   "cell_type": "markdown",
   "metadata": {},
   "source": [
    "![](https://media.giphy.com/media/l2JhIUyUs8KDCCf3W/giphy.gif)"
   ]
  }
 ],
 "metadata": {
  "kernelspec": {
   "display_name": "Python 3",
   "language": "python",
   "name": "python3"
  },
  "language_info": {
   "codemirror_mode": {
    "name": "ipython",
    "version": 3
   },
   "file_extension": ".py",
   "mimetype": "text/x-python",
   "name": "python",
   "nbconvert_exporter": "python",
   "pygments_lexer": "ipython3",
   "version": "3.6.5"
  }
 },
 "nbformat": 4,
 "nbformat_minor": 4
}
